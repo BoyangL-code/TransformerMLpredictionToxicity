{
 "cells": [
  {
   "cell_type": "code",
   "execution_count": 1,
   "id": "a4f742f1-ca04-44bf-8ffd-76068dd9750a",
   "metadata": {},
   "outputs": [],
   "source": [
    "import pandas as pd"
   ]
  },
  {
   "cell_type": "code",
   "execution_count": 2,
   "id": "9213dc23-8bc4-4155-b660-fb778b4edb10",
   "metadata": {},
   "outputs": [],
   "source": [
    "data = pd.read_csv(\"./MT_lightgbm_evaluation_results.csv\")"
   ]
  },
  {
   "cell_type": "code",
   "execution_count": 3,
   "id": "1d5e2188-d91e-463b-9a86-d4abcb04861b",
   "metadata": {},
   "outputs": [
    {
     "data": {
      "text/html": [
       "<div>\n",
       "<style scoped>\n",
       "    .dataframe tbody tr th:only-of-type {\n",
       "        vertical-align: middle;\n",
       "    }\n",
       "\n",
       "    .dataframe tbody tr th {\n",
       "        vertical-align: top;\n",
       "    }\n",
       "\n",
       "    .dataframe thead th {\n",
       "        text-align: right;\n",
       "    }\n",
       "</style>\n",
       "<table border=\"1\" class=\"dataframe\">\n",
       "  <thead>\n",
       "    <tr style=\"text-align: right;\">\n",
       "      <th></th>\n",
       "      <th>y_true</th>\n",
       "      <th>y_pred</th>\n",
       "    </tr>\n",
       "  </thead>\n",
       "  <tbody>\n",
       "    <tr>\n",
       "      <th>0</th>\n",
       "      <td>0.841763</td>\n",
       "      <td>0.718058</td>\n",
       "    </tr>\n",
       "    <tr>\n",
       "      <th>1</th>\n",
       "      <td>0.811072</td>\n",
       "      <td>0.882350</td>\n",
       "    </tr>\n",
       "    <tr>\n",
       "      <th>2</th>\n",
       "      <td>3.939258</td>\n",
       "      <td>2.592798</td>\n",
       "    </tr>\n",
       "    <tr>\n",
       "      <th>3</th>\n",
       "      <td>0.001299</td>\n",
       "      <td>0.751868</td>\n",
       "    </tr>\n",
       "    <tr>\n",
       "      <th>4</th>\n",
       "      <td>3.663562</td>\n",
       "      <td>3.446639</td>\n",
       "    </tr>\n",
       "    <tr>\n",
       "      <th>...</th>\n",
       "      <td>...</td>\n",
       "      <td>...</td>\n",
       "    </tr>\n",
       "    <tr>\n",
       "      <th>26904</th>\n",
       "      <td>0.122218</td>\n",
       "      <td>0.168084</td>\n",
       "    </tr>\n",
       "    <tr>\n",
       "      <th>26905</th>\n",
       "      <td>0.122218</td>\n",
       "      <td>1.324394</td>\n",
       "    </tr>\n",
       "    <tr>\n",
       "      <th>26906</th>\n",
       "      <td>0.277632</td>\n",
       "      <td>0.925101</td>\n",
       "    </tr>\n",
       "    <tr>\n",
       "      <th>26907</th>\n",
       "      <td>0.425268</td>\n",
       "      <td>0.157907</td>\n",
       "    </tr>\n",
       "    <tr>\n",
       "      <th>26908</th>\n",
       "      <td>0.425268</td>\n",
       "      <td>1.078885</td>\n",
       "    </tr>\n",
       "  </tbody>\n",
       "</table>\n",
       "<p>26909 rows × 2 columns</p>\n",
       "</div>"
      ],
      "text/plain": [
       "         y_true    y_pred\n",
       "0      0.841763  0.718058\n",
       "1      0.811072  0.882350\n",
       "2      3.939258  2.592798\n",
       "3      0.001299  0.751868\n",
       "4      3.663562  3.446639\n",
       "...         ...       ...\n",
       "26904  0.122218  0.168084\n",
       "26905  0.122218  1.324394\n",
       "26906  0.277632  0.925101\n",
       "26907  0.425268  0.157907\n",
       "26908  0.425268  1.078885\n",
       "\n",
       "[26909 rows x 2 columns]"
      ]
     },
     "execution_count": 3,
     "metadata": {},
     "output_type": "execute_result"
    }
   ],
   "source": [
    "data"
   ]
  },
  {
   "cell_type": "code",
   "execution_count": 4,
   "id": "e6f1d334-7d9d-4893-8436-4caefec6b5fc",
   "metadata": {},
   "outputs": [],
   "source": [
    "import numpy as np\n",
    "\n",
    "# 计算错误，较大值为分子，较小值为分母\n",
    "data['error'] = np.maximum(data['y_true'], data['y_pred']) / np.minimum(data['y_true'], data['y_pred'])\n"
   ]
  },
  {
   "cell_type": "code",
   "execution_count": 5,
   "id": "88f20b72-41ab-4fe7-bd46-4ca56e85d623",
   "metadata": {},
   "outputs": [
    {
     "name": "stdout",
     "output_type": "stream",
     "text": [
      "中值误差: 1.3149412084178789\n",
      "绝对误差示例: 300.7886810669738\n"
     ]
    }
   ],
   "source": [
    "# 计算中值误差\n",
    "median_error = np.median(data['error'])\n",
    "\n",
    "# 打印结果\n",
    "print(\"中值误差:\", median_error)\n",
    "print(\"绝对误差示例:\", np.mean(data['error']))"
   ]
  },
  {
   "cell_type": "code",
   "execution_count": 6,
   "id": "ec2e0e3b-a824-4264-a873-1d8ec560467e",
   "metadata": {},
   "outputs": [
    {
     "data": {
      "text/plain": [
       "300.7886810669738"
      ]
     },
     "execution_count": 6,
     "metadata": {},
     "output_type": "execute_result"
    }
   ],
   "source": [
    "np.mean(data['error'])"
   ]
  },
  {
   "cell_type": "code",
   "execution_count": 7,
   "id": "9339262c-5337-4944-88fb-9daca4c4d688",
   "metadata": {},
   "outputs": [
    {
     "data": {
      "text/plain": [
       "756553.4981026459"
      ]
     },
     "execution_count": 7,
     "metadata": {},
     "output_type": "execute_result"
    }
   ],
   "source": [
    "max(data['error'])"
   ]
  },
  {
   "cell_type": "code",
   "execution_count": 8,
   "id": "0c8e01ec-4893-43f5-bdce-1d62538415e7",
   "metadata": {},
   "outputs": [
    {
     "data": {
      "text/plain": [
       "-1674.5556977463284"
      ]
     },
     "execution_count": 8,
     "metadata": {},
     "output_type": "execute_result"
    }
   ],
   "source": [
    "min(data['error'])"
   ]
  },
  {
   "cell_type": "code",
   "execution_count": 9,
   "id": "4c375d3b-fb48-4271-8994-755cc6c2d319",
   "metadata": {},
   "outputs": [],
   "source": [
    "# 计算异常值的分位数\n",
    "lower_bound = np.percentile(data['error'], 5)\n",
    "upper_bound = np.percentile(data['error'], 95)\n",
    "\n",
    "# 截断异常值\n",
    "data['error_1'] = np.clip(data['error'], lower_bound, upper_bound)"
   ]
  },
  {
   "cell_type": "code",
   "execution_count": 10,
   "id": "49c3dfca-5a5a-47cf-bdec-aa8010e8e9a3",
   "metadata": {},
   "outputs": [
    {
     "data": {
      "text/plain": [
       "5.9505575349851565"
      ]
     },
     "execution_count": 10,
     "metadata": {},
     "output_type": "execute_result"
    }
   ],
   "source": [
    "np.mean(data['error_1'])"
   ]
  },
  {
   "cell_type": "code",
   "execution_count": 11,
   "id": "9a6b852e-c5b8-40e7-b604-9d832279ef47",
   "metadata": {},
   "outputs": [],
   "source": [
    "median_error = np.median(data['error_1'])"
   ]
  },
  {
   "cell_type": "code",
   "execution_count": 12,
   "id": "3a9ed636-b93b-4f25-9565-3c87c1029e57",
   "metadata": {},
   "outputs": [
    {
     "data": {
      "text/plain": [
       "1.3149412084178789"
      ]
     },
     "execution_count": 12,
     "metadata": {},
     "output_type": "execute_result"
    }
   ],
   "source": [
    "median_error"
   ]
  },
  {
   "cell_type": "code",
   "execution_count": null,
   "id": "a28a81d2-5983-41d3-86d4-212e3efe586c",
   "metadata": {},
   "outputs": [],
   "source": []
  },
  {
   "cell_type": "code",
   "execution_count": null,
   "id": "3308feae-07c1-43e6-9c17-20d8d30b4e09",
   "metadata": {},
   "outputs": [],
   "source": []
  }
 ],
 "metadata": {
  "kernelspec": {
   "display_name": "Python 3 (ipykernel)",
   "language": "python",
   "name": "python3"
  },
  "language_info": {
   "codemirror_mode": {
    "name": "ipython",
    "version": 3
   },
   "file_extension": ".py",
   "mimetype": "text/x-python",
   "name": "python",
   "nbconvert_exporter": "python",
   "pygments_lexer": "ipython3",
   "version": "3.10.8"
  }
 },
 "nbformat": 4,
 "nbformat_minor": 5
}
